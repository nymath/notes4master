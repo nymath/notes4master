{
 "cells": [
  {
   "cell_type": "code",
   "execution_count": 1,
   "id": "e42abe5a",
   "metadata": {
    "ExecuteTime": {
     "end_time": "2022-10-12T12:34:40.389793Z",
     "start_time": "2022-10-12T12:34:39.067207Z"
    }
   },
   "outputs": [],
   "source": [
    "import pandas as pd\n",
    "import numpy as np\n",
    "import sympy as sp\n",
    "import zsh_in_jupyter as jz\n",
    "import matplotlib as mpl\n",
    "import matplotlib.pyplot as plt\n",
    "sp.init_printing()\n",
    "%config InlineBackend.figure_format='svg' "
   ]
  },
  {
   "cell_type": "markdown",
   "id": "2500bbe4",
   "metadata": {},
   "source": [
    "# n个风险资产"
   ]
  },
  {
   "cell_type": "code",
   "execution_count": 20,
   "id": "3756095d",
   "metadata": {
    "ExecuteTime": {
     "end_time": "2022-10-12T12:40:20.554268Z",
     "start_time": "2022-10-12T12:40:20.545405Z"
    }
   },
   "outputs": [],
   "source": [
    "from sympy import sympify\n",
    "from latex2sympy2 import latex2sympy"
   ]
  },
  {
   "cell_type": "code",
   "execution_count": 21,
   "id": "fa4131df",
   "metadata": {
    "ExecuteTime": {
     "end_time": "2022-10-12T12:43:36.012762Z",
     "start_time": "2022-10-12T12:43:35.998174Z"
    }
   },
   "outputs": [],
   "source": [
    "μ = np.array([[0.08],\n",
    "              [0.12],\n",
    "              [0.09]])\n",
    "Σ = np.array([[1,0,0],\n",
    "              [0,4,1],\n",
    "              [0,1,1]])"
   ]
  },
  {
   "cell_type": "code",
   "execution_count": 23,
   "id": "694bb940",
   "metadata": {
    "ExecuteTime": {
     "end_time": "2022-10-12T13:04:42.409748Z",
     "start_time": "2022-10-12T13:04:42.344692Z"
    }
   },
   "outputs": [],
   "source": [
    "xxx = latex2sympy(r\"\\frac{\\mathbf{R}_1 \\sigma_2\\left(-\\rho \\sigma_1+\\sigma_2\\right)+\\mathbf{R}_2 \\sigma_1\\left(\\sigma_1-\\rho \\sigma_2\\right)}{\\sigma_1^2-2 \\rho \\sigma_1 \\sigma_2+\\sigma_2^2}\")"
   ]
  },
  {
   "cell_type": "code",
   "execution_count": 25,
   "id": "ca026773",
   "metadata": {
    "ExecuteTime": {
     "end_time": "2022-10-12T13:04:48.492120Z",
     "start_time": "2022-10-12T13:04:48.477855Z"
    }
   },
   "outputs": [
    {
     "data": {
      "text/plain": [
       "sympy.core.mul.Mul"
      ]
     },
     "execution_count": 25,
     "metadata": {},
     "output_type": "execute_result"
    }
   ],
   "source": []
  },
  {
   "cell_type": "code",
   "execution_count": null,
   "id": "f217ce50",
   "metadata": {},
   "outputs": [],
   "source": []
  },
  {
   "cell_type": "code",
   "execution_count": null,
   "id": "b38b5d17",
   "metadata": {},
   "outputs": [],
   "source": []
  },
  {
   "cell_type": "code",
   "execution_count": null,
   "id": "614cfd80",
   "metadata": {},
   "outputs": [],
   "source": []
  },
  {
   "cell_type": "code",
   "execution_count": null,
   "id": "3242f6d0",
   "metadata": {},
   "outputs": [],
   "source": []
  }
 ],
 "metadata": {
  "kernelspec": {
   "display_name": "Python 3 (ipykernel)",
   "language": "python",
   "name": "python3"
  },
  "language_info": {
   "codemirror_mode": {
    "name": "ipython",
    "version": 3
   },
   "file_extension": ".py",
   "mimetype": "text/x-python",
   "name": "python",
   "nbconvert_exporter": "python",
   "pygments_lexer": "ipython3",
   "version": "3.9.12"
  },
  "latex_envs": {
   "LaTeX_envs_menu_present": true,
   "autoclose": false,
   "autocomplete": false,
   "bibliofile": "biblio.bib",
   "cite_by": "apalike",
   "current_citInitial": 1,
   "eqLabelWithNumbers": false,
   "eqNumInitial": 1,
   "hotkeys": {
    "equation": "Ctrl-E",
    "itemize": "Ctrl-I"
   },
   "labels_anchors": false,
   "latex_user_defs": false,
   "report_style_numbering": false,
   "user_envs_cfg": true
  },
  "nbTranslate": {
   "displayLangs": [
    "*"
   ],
   "hotkey": "alt-t",
   "langInMainMenu": true,
   "sourceLang": "en",
   "targetLang": "fr",
   "useGoogleTranslate": true
  },
  "toc": {
   "base_numbering": 1,
   "nav_menu": {},
   "number_sections": true,
   "sideBar": true,
   "skip_h1_title": false,
   "title_cell": "Table of Contents",
   "title_sidebar": "Contents",
   "toc_cell": false,
   "toc_position": {},
   "toc_section_display": true,
   "toc_window_display": false
  },
  "varInspector": {
   "cols": {
    "lenName": 16,
    "lenType": 16,
    "lenVar": 40
   },
   "kernels_config": {
    "python": {
     "delete_cmd_postfix": "",
     "delete_cmd_prefix": "del ",
     "library": "var_list.py",
     "varRefreshCmd": "print(var_dic_list())"
    },
    "r": {
     "delete_cmd_postfix": ") ",
     "delete_cmd_prefix": "rm(",
     "library": "var_list.r",
     "varRefreshCmd": "cat(var_dic_list()) "
    }
   },
   "types_to_exclude": [
    "module",
    "function",
    "builtin_function_or_method",
    "instance",
    "_Feature"
   ],
   "window_display": false
  }
 },
 "nbformat": 4,
 "nbformat_minor": 5
}
